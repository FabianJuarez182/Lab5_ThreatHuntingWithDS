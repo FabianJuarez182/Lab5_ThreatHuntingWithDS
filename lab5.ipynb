{
 "cells": [
  {
   "cell_type": "markdown",
   "metadata": {},
   "source": [
    "# Laboratorio 5 Threat Hunting"
   ]
  },
  {
   "cell_type": "code",
   "execution_count": 3,
   "metadata": {},
   "outputs": [
    {
     "name": "stdout",
     "output_type": "stream",
     "text": [
      "Cantidad total de registros: 746909\n",
      "Cantidad de registros DNS: 15749\n",
      "Ejemplo de registros DNS:\n",
      "{\n",
      "  \"timestamp\": \"2017-07-22T17:33:16.661646-0500\",\n",
      "  \"flow_id\": 1327836194150542,\n",
      "  \"pcap_cnt\": 22269,\n",
      "  \"event_type\": \"dns\",\n",
      "  \"vlan\": 110,\n",
      "  \"src_ip\": \"2001:0dbb:0c18:0011:0260:6eff:fe30:0863\",\n",
      "  \"src_port\": 59680,\n",
      "  \"dest_ip\": \"2001:0500:0001:0000:0000:0000:803f:0235\",\n",
      "  \"dest_port\": 53,\n",
      "  \"proto\": \"UDP\",\n",
      "  \"dns\": {\n",
      "    \"type\": \"query\",\n",
      "    \"id\": 15529,\n",
      "    \"rrname\": \"api.wunderground.com\",\n",
      "    \"rrtype\": \"A\",\n",
      "    \"tx_id\": 0\n",
      "  }\n",
      "}\n",
      "{\n",
      "  \"timestamp\": \"2017-07-22T17:33:24.990320-0500\",\n",
      "  \"flow_id\": 2022925111925872,\n",
      "  \"pcap_cnt\": 54352,\n",
      "  \"event_type\": \"dns\",\n",
      "  \"vlan\": 110,\n",
      "  \"src_ip\": \"2001:0dbb:0c18:0011:0260:6eff:fe30:0863\",\n",
      "  \"src_port\": 38051,\n",
      "  \"dest_ip\": \"2001:0500:0003:0000:0000:0000:0000:0042\",\n",
      "  \"dest_port\": 53,\n",
      "  \"proto\": \"UDP\",\n",
      "  \"dns\": {\n",
      "    \"type\": \"query\",\n",
      "    \"id\": 58278,\n",
      "    \"rrname\": \"stork79.dropbox.com\",\n",
      "    \"rrtype\": \"A\",\n",
      "    \"tx_id\": 0\n",
      "  }\n",
      "}\n"
     ]
    }
   ],
   "source": [
    "import json\n",
    "import pandas as pd\n",
    "\n",
    "# Cargar los datos desde el archivo JSON\n",
    "file_path = \"large_eve.json\" \n",
    "\n",
    "with open(file_path, \"r\", encoding=\"utf-8\") as file:\n",
    "    data = [json.loads(line) for line in file]\n",
    "\n",
    "# Mostrar la cantidad total de registros\n",
    "print(f\"Cantidad total de registros: {len(data)}\")  \n",
    "# Filtrar solo los registros de tipo DNS\n",
    "dns_records = [entry for entry in data if entry.get(\"event_type\") == \"dns\"]\n",
    "print(f\"Cantidad de registros DNS: {len(dns_records)}\") \n",
    "\n",
    "# Mostrar 2 registros de ejemplo\n",
    "print(\"Ejemplo de registros DNS:\")\n",
    "for record in dns_records[:2]:\n",
    "    print(json.dumps(record, indent=2))"
   ]
  },
  {
   "cell_type": "code",
   "execution_count": 4,
   "metadata": {},
   "outputs": [
    {
     "name": "stdout",
     "output_type": "stream",
     "text": [
      "Shape del DataFrame: (15749, 18)\n",
      "Cantidad de registros tipo A: 2849\n",
      "Cantidad de dominios únicos: 177\n",
      "                                   dns.rrname        domain_tld\n",
      "0                        api.wunderground.com  wunderground.com\n",
      "1                         stork79.dropbox.com       dropbox.com\n",
      "2  hpca-tier2.office.aol.com.ad.aol.aoltw.net         aoltw.net\n",
      "3        safebrowsing.clients.google.com.home          com.home\n",
      "4                         fxfeeds.mozilla.com       mozilla.com\n",
      "Archivo 'dominios.csv' guardado con éxito.\n"
     ]
    }
   ],
   "source": [
    "# Normalizar los datos con json_normalize\n",
    "from pandas import json_normalize\n",
    "\n",
    "df = json_normalize(dns_records)\n",
    "print(f\"Shape del DataFrame: {df.shape}\")  \n",
    "\n",
    "# Filtrar registros de tipo A (los que contienen una dirección IP asociada a un dominio)\n",
    "df_a_records = df[df[\"dns.rrtype\"] == \"A\"]\n",
    "print(f\"Cantidad de registros tipo A: {df_a_records.shape[0]}\")\n",
    "\n",
    "# Filtrar dominios únicos\n",
    "domain_unique = df_a_records[\"dns.rrname\"].dropna().unique()\n",
    "print(f\"Cantidad de dominios únicos: {len(domain_unique)}\")  \n",
    "# Función para obtener el TLD de un dominio\n",
    "def get_tld(domain):\n",
    "    \"\"\"\n",
    "    source: GTP-4o\n",
    "    prompt: Generame una funcion para obtener los TDL de un dominio.\n",
    "    \"\"\"\n",
    "    parts = domain.split('.')\n",
    "    if len(parts) > 1:\n",
    "        return '.'.join(parts[-2:])\n",
    "    return domain\n",
    "\n",
    "# Aplicar la función a los dominios únicos\n",
    "domain_tld_df = pd.DataFrame(domain_unique, columns=[\"dns.rrname\"])\n",
    "domain_tld_df[\"domain_tld\"] = domain_tld_df[\"dns.rrname\"].apply(get_tld)\n",
    "\n",
    "# Eliminar todas las demás columnas dejando solo domain_tld\n",
    "domain_tld_df = domain_tld_df[[\"dns.rrname\", \"domain_tld\"]]\n",
    "print(domain_tld_df.head())\n",
    "\n",
    "# Guardar en un archivo CSV\n",
    "domain_tld_df.to_csv(\"dominios.csv\", index=False, encoding=\"utf-8\")\n",
    "print(\"Archivo 'dominios.csv' guardado con éxito.\")\n"
   ]
  },
  {
   "cell_type": "markdown",
   "metadata": {},
   "source": [
    "### Parte 2"
   ]
  },
  {
   "cell_type": "code",
   "execution_count": 30,
   "metadata": {},
   "outputs": [],
   "source": [
    "import google.generativeai as genia\n",
    "from dotenv import load_dotenv\n",
    "import os\n",
    "\n",
    "load_dotenv()\n",
    "\n",
    "# Intentar cargar la API KEY desde el archivo .env\n",
    "API_KEY = os.getenv(\"API_KEY\")\n",
    "\n",
    "# Configurar la API de Gemini\n",
    "genia.configure(api_key=API_KEY)\n",
    "\n",
    "model = genia.GenerativeModel(model_name='gemini-2.0-flash')"
   ]
  },
  {
   "cell_type": "code",
   "execution_count": 31,
   "metadata": {},
   "outputs": [],
   "source": [
    "import time\n",
    "# Cargar los datos desde el archivo CSV\n",
    "file_path = \"dominios.csv\"\n",
    "domain_tld_df = pd.read_csv(file_path)\n",
    "\n",
    "# Asegurar que la columna de dominios se llama correctamente\n",
    "if \"dns.rrname\" not in domain_tld_df.columns:\n",
    "    raise ValueError(\"El archivo CSV no contiene la columna esperada 'dns.rrname'\")\n",
    "\n",
    "# Convertir a string para evitar errores\n",
    "domain_tld_df[\"dns.rrname\"] = domain_tld_df[\"dns.rrname\"].astype(str)\n",
    "\n",
    "# Aplicar la función a los dominios únicos\n",
    "domain_tld_df[\"domain_tld\"] = domain_tld_df[\"dns.rrname\"].apply(get_tld)\n",
    "\n",
    "# Clasificación con Gemini en lotes para evitar límites de la API\n",
    "def classify_domains_batch(domains, batch_size=10):\n",
    "    classifications = []\n",
    "    for i in range(0, len(domains), batch_size):\n",
    "        batch = domains[i:i+batch_size]\n",
    "        prompt = \"Para cada dominio en la siguiente lista, responde con 1 si es un dominio generado por algoritmo (DGA) o 0 si es legítimo. Responde solo con una lista de números, en el mismo orden de los dominios, separados por espacios.\\n\"\n",
    "        prompt += \"\\n\".join(batch)\n",
    "        response = model.generate_content(prompt)\n",
    "        try:\n",
    "            results = [int(x.strip()) if x.strip().isdigit() else 0 for x in response.text.split()] \n",
    "            if len(results) == len(batch):\n",
    "                classifications.extend(results)\n",
    "            else:\n",
    "                classifications.extend([0] * len(batch))  # En caso de error, asumir legítimos\n",
    "        except Exception:\n",
    "            classifications.extend([0] * len(batch))  # Manejo de errores\n",
    "        time.sleep(1)  # Evitar sobrecarga en la API\n",
    "    return classifications"
   ]
  },
  {
   "cell_type": "code",
   "execution_count": 37,
   "metadata": {},
   "outputs": [
    {
     "name": "stdout",
     "output_type": "stream",
     "text": [
      "Cantidad de registros DGA únicos: 34\n",
      "                              dns.rrname                 domain_tld  \\\n",
      "18              192.168.22.110phpmyadmin           22.110phpmyadmin   \n",
      "24  192.168.22.110phpmyadmin.localdomain  110phpmyadmin.localdomain   \n",
      "27                  proxim.ntkrnlpa.info              ntkrnlpa.info   \n",
      "32           AOLDTCMA04.ad.aol.aoltw.net                  aoltw.net   \n",
      "33                       gg.arrancar.org               arrancar.org   \n",
      "\n",
      "    dga_classification  \n",
      "18                   1  \n",
      "24                   1  \n",
      "27                   1  \n",
      "32                   1  \n",
      "33                   1  \n"
     ]
    }
   ],
   "source": [
    "# Aplicar clasificación por lotes\n",
    "domain_list = domain_tld_df[\"dns.rrname\"].tolist()\n",
    "domain_tld_df[\"dga_classification\"] = classify_domains_batch(domain_list, batch_size=10)\n",
    "\n",
    "# Guardar los resultados en el archivo CSV\n",
    "domain_tld_df.to_csv(\"dominios_clasificados.csv\", index=False)\n",
    "\n",
    "# Filtrar los dominios considerados como DGA\n",
    "dga_domains = domain_tld_df[domain_tld_df[\"dga_classification\"] == 1]\n",
    "dga_domains = dga_domains.drop_duplicates()\n",
    "print(f\"Cantidad de registros DGA únicos: {len(dga_domains)}\")\n",
    "print(dga_domains.head())"
   ]
  },
  {
   "cell_type": "markdown",
   "metadata": {},
   "source": [
    "### Parte 3"
   ]
  }
 ],
 "metadata": {
  "kernelspec": {
   "display_name": "Python 3",
   "language": "python",
   "name": "python3"
  },
  "language_info": {
   "codemirror_mode": {
    "name": "ipython",
    "version": 3
   },
   "file_extension": ".py",
   "mimetype": "text/x-python",
   "name": "python",
   "nbconvert_exporter": "python",
   "pygments_lexer": "ipython3",
   "version": "3.13.0"
  }
 },
 "nbformat": 4,
 "nbformat_minor": 2
}
