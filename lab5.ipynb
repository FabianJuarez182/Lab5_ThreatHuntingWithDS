{
 "cells": [
  {
   "cell_type": "markdown",
   "metadata": {},
   "source": [
    "# Laboratorio 5 Threat Hunting"
   ]
  },
  {
   "cell_type": "code",
   "execution_count": 3,
   "metadata": {},
   "outputs": [
    {
     "name": "stdout",
     "output_type": "stream",
     "text": [
      "Cantidad total de registros: 746909\n",
      "Cantidad de registros DNS: 15749\n",
      "Ejemplo de registros DNS:\n",
      "{\n",
      "  \"timestamp\": \"2017-07-22T17:33:16.661646-0500\",\n",
      "  \"flow_id\": 1327836194150542,\n",
      "  \"pcap_cnt\": 22269,\n",
      "  \"event_type\": \"dns\",\n",
      "  \"vlan\": 110,\n",
      "  \"src_ip\": \"2001:0dbb:0c18:0011:0260:6eff:fe30:0863\",\n",
      "  \"src_port\": 59680,\n",
      "  \"dest_ip\": \"2001:0500:0001:0000:0000:0000:803f:0235\",\n",
      "  \"dest_port\": 53,\n",
      "  \"proto\": \"UDP\",\n",
      "  \"dns\": {\n",
      "    \"type\": \"query\",\n",
      "    \"id\": 15529,\n",
      "    \"rrname\": \"api.wunderground.com\",\n",
      "    \"rrtype\": \"A\",\n",
      "    \"tx_id\": 0\n",
      "  }\n",
      "}\n",
      "{\n",
      "  \"timestamp\": \"2017-07-22T17:33:24.990320-0500\",\n",
      "  \"flow_id\": 2022925111925872,\n",
      "  \"pcap_cnt\": 54352,\n",
      "  \"event_type\": \"dns\",\n",
      "  \"vlan\": 110,\n",
      "  \"src_ip\": \"2001:0dbb:0c18:0011:0260:6eff:fe30:0863\",\n",
      "  \"src_port\": 38051,\n",
      "  \"dest_ip\": \"2001:0500:0003:0000:0000:0000:0000:0042\",\n",
      "  \"dest_port\": 53,\n",
      "  \"proto\": \"UDP\",\n",
      "  \"dns\": {\n",
      "    \"type\": \"query\",\n",
      "    \"id\": 58278,\n",
      "    \"rrname\": \"stork79.dropbox.com\",\n",
      "    \"rrtype\": \"A\",\n",
      "    \"tx_id\": 0\n",
      "  }\n",
      "}\n"
     ]
    }
   ],
   "source": [
    "import json\n",
    "import pandas as pd\n",
    "\n",
    "# Cargar los datos desde el archivo JSON\n",
    "file_path = \"large_eve.json\" \n",
    "\n",
    "with open(file_path, \"r\", encoding=\"utf-8\") as file:\n",
    "    data = [json.loads(line) for line in file]\n",
    "\n",
    "# Mostrar la cantidad total de registros\n",
    "print(f\"Cantidad total de registros: {len(data)}\")  \n",
    "# Filtrar solo los registros de tipo DNS\n",
    "dns_records = [entry for entry in data if entry.get(\"event_type\") == \"dns\"]\n",
    "print(f\"Cantidad de registros DNS: {len(dns_records)}\") \n",
    "\n",
    "# Mostrar 2 registros de ejemplo\n",
    "print(\"Ejemplo de registros DNS:\")\n",
    "for record in dns_records[:2]:\n",
    "    print(json.dumps(record, indent=2))"
   ]
  },
  {
   "cell_type": "code",
   "execution_count": 4,
   "metadata": {},
   "outputs": [
    {
     "name": "stdout",
     "output_type": "stream",
     "text": [
      "Shape del DataFrame: (15749, 18)\n",
      "Cantidad de registros tipo A: 2849\n",
      "Cantidad de dominios únicos: 177\n",
      "                                   dns.rrname        domain_tld\n",
      "0                        api.wunderground.com  wunderground.com\n",
      "1                         stork79.dropbox.com       dropbox.com\n",
      "2  hpca-tier2.office.aol.com.ad.aol.aoltw.net         aoltw.net\n",
      "3        safebrowsing.clients.google.com.home          com.home\n",
      "4                         fxfeeds.mozilla.com       mozilla.com\n",
      "Archivo 'dominios.csv' guardado con éxito.\n"
     ]
    }
   ],
   "source": [
    "# Normalizar los datos con json_normalize\n",
    "from pandas import json_normalize\n",
    "\n",
    "df = json_normalize(dns_records)\n",
    "print(f\"Shape del DataFrame: {df.shape}\")  \n",
    "\n",
    "# Filtrar registros de tipo A (los que contienen una dirección IP asociada a un dominio)\n",
    "df_a_records = df[df[\"dns.rrtype\"] == \"A\"]\n",
    "print(f\"Cantidad de registros tipo A: {df_a_records.shape[0]}\")\n",
    "\n",
    "# Filtrar dominios únicos\n",
    "domain_unique = df_a_records[\"dns.rrname\"].dropna().unique()\n",
    "print(f\"Cantidad de dominios únicos: {len(domain_unique)}\")  \n",
    "# Función para obtener el TLD de un dominio\n",
    "def get_tld(domain):\n",
    "    \"\"\"\n",
    "    source: GTP-4o\n",
    "    prompt: Generame una funcion para obtener los TDL de un dominio.\n",
    "    \"\"\"\n",
    "    parts = domain.split('.')\n",
    "    if len(parts) > 1:\n",
    "        return '.'.join(parts[-2:])\n",
    "    return domain\n",
    "\n",
    "# Aplicar la función a los dominios únicos\n",
    "domain_tld_df = pd.DataFrame(domain_unique, columns=[\"dns.rrname\"])\n",
    "domain_tld_df[\"domain_tld\"] = domain_tld_df[\"dns.rrname\"].apply(get_tld)\n",
    "\n",
    "# Eliminar todas las demás columnas dejando solo domain_tld\n",
    "domain_tld_df = domain_tld_df[[\"dns.rrname\", \"domain_tld\"]]\n",
    "print(domain_tld_df.head())\n",
    "\n",
    "# Guardar en un archivo CSV\n",
    "domain_tld_df.to_csv(\"dominios.csv\", index=False, encoding=\"utf-8\")\n",
    "print(\"Archivo 'dominios.csv' guardado con éxito.\")\n"
   ]
  },
  {
   "cell_type": "markdown",
   "metadata": {},
   "source": [
    "### Parte 2"
   ]
  },
  {
   "cell_type": "code",
   "execution_count": 30,
   "metadata": {},
   "outputs": [],
   "source": [
    "import google.generativeai as genia\n",
    "from dotenv import load_dotenv\n",
    "import os\n",
    "\n",
    "load_dotenv()\n",
    "\n",
    "# Intentar cargar la API KEY desde el archivo .env\n",
    "API_KEY = os.getenv(\"API_KEY\")\n",
    "\n",
    "# Configurar la API de Gemini\n",
    "genia.configure(api_key=API_KEY)\n",
    "\n",
    "model = genia.GenerativeModel(model_name='gemini-2.0-flash')"
   ]
  },
  {
   "cell_type": "code",
   "execution_count": 31,
   "metadata": {},
   "outputs": [],
   "source": [
    "import time\n",
    "# Cargar los datos desde el archivo CSV\n",
    "file_path = \"dominios.csv\"\n",
    "domain_tld_df = pd.read_csv(file_path)\n",
    "\n",
    "# Asegurar que la columna de dominios se llama correctamente\n",
    "if \"dns.rrname\" not in domain_tld_df.columns:\n",
    "    raise ValueError(\"El archivo CSV no contiene la columna esperada 'dns.rrname'\")\n",
    "\n",
    "# Convertir a string para evitar errores\n",
    "domain_tld_df[\"dns.rrname\"] = domain_tld_df[\"dns.rrname\"].astype(str)\n",
    "\n",
    "# Aplicar la función a los dominios únicos\n",
    "domain_tld_df[\"domain_tld\"] = domain_tld_df[\"dns.rrname\"].apply(get_tld)\n",
    "\n",
    "# Clasificación con Gemini en lotes para evitar límites de la API\n",
    "def classify_domains_batch(domains, batch_size=10):\n",
    "    classifications = []\n",
    "    for i in range(0, len(domains), batch_size):\n",
    "        batch = domains[i:i+batch_size]\n",
    "        prompt = \"Para cada dominio en la siguiente lista, responde con 1 si es un dominio generado por algoritmo (DGA) o 0 si es legítimo. Responde solo con una lista de números, en el mismo orden de los dominios, separados por espacios.\\n\"\n",
    "        prompt += \"\\n\".join(batch)\n",
    "        response = model.generate_content(prompt)\n",
    "        try:\n",
    "            results = [int(x.strip()) if x.strip().isdigit() else 0 for x in response.text.split()] \n",
    "            if len(results) == len(batch):\n",
    "                classifications.extend(results)\n",
    "            else:\n",
    "                classifications.extend([0] * len(batch))  # En caso de error, asumir legítimos\n",
    "        except Exception:\n",
    "            classifications.extend([0] * len(batch))  # Manejo de errores\n",
    "        time.sleep(1)  # Evitar sobrecarga en la API\n",
    "    return classifications"
   ]
  },
  {
   "cell_type": "code",
   "execution_count": 37,
   "metadata": {},
   "outputs": [
    {
     "name": "stdout",
     "output_type": "stream",
     "text": [
      "Cantidad de registros DGA únicos: 34\n",
      "                              dns.rrname                 domain_tld  \\\n",
      "18              192.168.22.110phpmyadmin           22.110phpmyadmin   \n",
      "24  192.168.22.110phpmyadmin.localdomain  110phpmyadmin.localdomain   \n",
      "27                  proxim.ntkrnlpa.info              ntkrnlpa.info   \n",
      "32           AOLDTCMA04.ad.aol.aoltw.net                  aoltw.net   \n",
      "33                       gg.arrancar.org               arrancar.org   \n",
      "\n",
      "    dga_classification  \n",
      "18                   1  \n",
      "24                   1  \n",
      "27                   1  \n",
      "32                   1  \n",
      "33                   1  \n"
     ]
    }
   ],
   "source": [
    "# Aplicar clasificación por lotes\n",
    "domain_list = domain_tld_df[\"dns.rrname\"].tolist()\n",
    "domain_tld_df[\"dga_classification\"] = classify_domains_batch(domain_list, batch_size=10)\n",
    "\n",
    "# Guardar los resultados en el archivo CSV\n",
    "domain_tld_df.to_csv(\"dominios_clasificados.csv\", index=False)\n",
    "\n",
    "# Filtrar los dominios considerados como DGA\n",
    "dga_domains = domain_tld_df[domain_tld_df[\"dga_classification\"] == 1]\n",
    "dga_domains = dga_domains.drop_duplicates()\n",
    "print(f\"Cantidad de registros DGA únicos: {len(dga_domains)}\")\n",
    "print(dga_domains.head())"
   ]
  },
  {
   "cell_type": "markdown",
   "metadata": {},
   "source": [
    "### Parte 3"
   ]
  },
  {
   "cell_type": "code",
   "execution_count": 43,
   "metadata": {},
   "outputs": [],
   "source": [
    "TLD_LIST_PATH = \"top-1m.csv\""
   ]
  },
  {
   "cell_type": "code",
   "execution_count": 44,
   "metadata": {},
   "outputs": [],
   "source": [
    "def load_tld_list():\n",
    "    \"\"\"Carga la lista de TLDs en memoria para evitar recargarla en cada consulta.\"\"\"\n",
    "    if not os.path.exists(TLD_LIST_PATH):\n",
    "        raise FileNotFoundError(f\"No se encontró el archivo {TLD_LIST_PATH}\")\n",
    "\n",
    "    # Leer CSV y extraer solo la columna de dominios\n",
    "    df = pd.read_csv(TLD_LIST_PATH, header=None, names=[\"rank\", \"domain\"])\n",
    "    \n",
    "    # Extraer solo los TLDs (última parte del dominio)\n",
    "    df[\"tld\"] = df[\"domain\"].apply(lambda x: x.split(\".\")[-1])  # Extraer la última parte\n",
    "\n",
    "    return set(df[\"tld\"])  # Convertir a conjunto para búsqueda rápida"
   ]
  },
  {
   "cell_type": "code",
   "execution_count": 45,
   "metadata": {},
   "outputs": [],
   "source": [
    "TLD_SET = load_tld_list()  # Cargarlo solo una vez en memoria"
   ]
  },
  {
   "cell_type": "code",
   "execution_count": 46,
   "metadata": {},
   "outputs": [],
   "source": [
    "def is_suspicious_tld(tld):\n",
    "    \"\"\"Devuelve 1 si el TLD no está en la lista (sospechoso), 0 si está en la lista.\"\"\"\n",
    "    return 1 if tld.lower() not in TLD_SET else 0"
   ]
  },
  {
   "cell_type": "code",
   "execution_count": 56,
   "metadata": {},
   "outputs": [
    {
     "name": "stdout",
     "output_type": "stream",
     "text": [
      "                                         dns.rrname  \\\n",
      "3              safebrowsing.clients.google.com.home   \n",
      "13                                        wpad.home   \n",
      "18                         192.168.22.110phpmyadmin   \n",
      "20              secure.informaction.com.localdomain   \n",
      "21      safebrowsing.clients.google.com.localdomain   \n",
      "24             192.168.22.110phpmyadmin.localdomain   \n",
      "39                                www.theanime.cn.    \n",
      "43   safebrowsing.clients.google.com.hackerlabs.vpn   \n",
      "52                     secure.informaction.com.home   \n",
      "63           secure.informaction.com.hackerlabs.vpn   \n",
      "66                                             wpad   \n",
      "67              safebrowsing.clients.google.com.lan   \n",
      "71                                 \"192.168.206.56\"   \n",
      "88                                  192.168.26-27.0   \n",
      "126                                              FL   \n",
      "131                                         saruman   \n",
      "135                                 192.168.21.1201   \n",
      "136                                             NaN   \n",
      "151                           whitecell.localdomain   \n",
      "163                                 1922.168.22.254   \n",
      "165                            1922.168.22.254.home   \n",
      "166                                 192.168.21-28.0   \n",
      "168                            192.168.21-28.0.home   \n",
      "169                                 192.168.22.201:   \n",
      "172                      ntp.ubuntu.com.localdomain   \n",
      "\n",
      "                    domain_tld  dga_classification            tld  \\\n",
      "3                     com.home                   0           home   \n",
      "13                   wpad.home                   0           home   \n",
      "18            22.110phpmyadmin                   1  110phpmyadmin   \n",
      "20             com.localdomain                   0    localdomain   \n",
      "21             com.localdomain                   0    localdomain   \n",
      "24   110phpmyadmin.localdomain                   1    localdomain   \n",
      "39                        cn.                    1                  \n",
      "43              hackerlabs.vpn                   0            vpn   \n",
      "52                    com.home                   1           home   \n",
      "63              hackerlabs.vpn                   1            vpn   \n",
      "66                        wpad                   1           wpad   \n",
      "67                     com.lan                   1            lan   \n",
      "71                     206.56\"                   0            56\"   \n",
      "88                     26-27.0                   0              0   \n",
      "126                         FL                   1             FL   \n",
      "131                    saruman                   1        saruman   \n",
      "135                    21.1201                   1           1201   \n",
      "136                        NaN                   0                  \n",
      "151      whitecell.localdomain                   1    localdomain   \n",
      "163                     22.254                   1            254   \n",
      "165                   254.home                   1           home   \n",
      "166                    21-28.0                   1              0   \n",
      "168                     0.home                   1           home   \n",
      "169                    22.201:                   1           201:   \n",
      "172            com.localdomain                   0    localdomain   \n",
      "\n",
      "     is_suspicious  \n",
      "3                1  \n",
      "13               1  \n",
      "18               1  \n",
      "20               1  \n",
      "21               1  \n",
      "24               1  \n",
      "39               1  \n",
      "43               1  \n",
      "52               1  \n",
      "63               1  \n",
      "66               1  \n",
      "67               1  \n",
      "71               1  \n",
      "88               1  \n",
      "126              1  \n",
      "131              1  \n",
      "135              1  \n",
      "136              1  \n",
      "151              1  \n",
      "163              1  \n",
      "165              1  \n",
      "166              1  \n",
      "168              1  \n",
      "169              1  \n",
      "172              1  \n",
      "Cantidad de dominios sospechosos: 25\n"
     ]
    }
   ],
   "source": [
    "# Ruta del archivo CSV con los dominios sospechosos\n",
    "SUSPICIOUS_CSV_PATH = \"dominios_clasificados.csv\"\n",
    "\n",
    "def filter_suspicious_domains():\n",
    "    \"\"\"Filtra los dominios sospechosos con TLDs fuera del top-1m.\"\"\"\n",
    "    if not os.path.exists(SUSPICIOUS_CSV_PATH):\n",
    "        raise FileNotFoundError(f\"No se encontró el archivo {SUSPICIOUS_CSV_PATH}\")\n",
    "\n",
    "    # Leer CSV\n",
    "    df = pd.read_csv(SUSPICIOUS_CSV_PATH)\n",
    "\n",
    "    # Suponiendo que la columna de dominios se llama 'domain'\n",
    "    df[\"tld\"] = df[\"dns.rrname\"].apply(lambda x: x.split(\".\")[-1] if isinstance(x, str) else \"\")  # Extraer TLD\n",
    "\n",
    "    # Filtrar dominios con TLDs fuera del top-1m\n",
    "    df[\"is_suspicious\"] = df[\"tld\"].apply(is_suspicious_tld)\n",
    "    filtered_df = df[df[\"is_suspicious\"] == 1].drop_duplicates()  # Eliminar duplicados\n",
    "    filtered_df.to_csv(\"dominios_sospechosos.csv\", index=False)  # Guardar en CSV\n",
    "    return filtered_df\n",
    "\n",
    "# Ejecutar filtro\n",
    "filtered_domains = filter_suspicious_domains()\n",
    "print(filtered_domains)\n",
    "print(f\"Cantidad de dominios sospechosos: {len(filtered_domains)}\")\n"
   ]
  },
  {
   "cell_type": "code",
   "execution_count": null,
   "metadata": {},
   "outputs": [
    {
     "name": "stdout",
     "output_type": "stream",
     "text": [
      "\n",
      "Fechas de creación de los TLDs sospechosos:\n",
      "safebrowsing.clients.google.com.home\n",
      "wpad.home\n",
      "192.168.22.110phpmyadmin\n",
      "secure.informaction.com.localdomain\n",
      "safebrowsing.clients.google.com.localdomain\n",
      "192.168.22.110phpmyadmin.localdomain\n",
      "www.theanime.cn. \n",
      "safebrowsing.clients.google.com.hackerlabs.vpn\n",
      "secure.informaction.com.home\n",
      "secure.informaction.com.hackerlabs.vpn\n",
      "wpad\n",
      "safebrowsing.clients.google.com.lan\n",
      "\"192.168.206.56\"\n",
      "192.168.26-27.0\n",
      "FL\n",
      "saruman\n",
      "192.168.21.1201\n",
      "nan\n",
      "whitecell.localdomain\n",
      "1922.168.22.254\n",
      "1922.168.22.254.home\n",
      "192.168.21-28.0\n",
      "192.168.21-28.0.home\n",
      "192.168.22.201:\n",
      "ntp.ubuntu.com.localdomain\n",
      "Cantidad de creacion de dominios sospechosos: 25\n"
     ]
    }
   ],
   "source": [
    "import whois\n",
    "\n",
    "def get_tld_creation_date(tld):\n",
    "    \"\"\"Obtiene la fecha de creación de un TLD desde WHOIS.\"\"\"\n",
    "    try:\n",
    "       domain_info = whois.whois(tld) \n",
    "       if domain_info.creation_date:\n",
    "            if isinstance(domain_info.creation_date, list):\n",
    "                return domain_info.creation_date[0]\n",
    "            return domain_info.creation_date\n",
    "       return None\n",
    "    except Exception as e:\n",
    "        return f\"Error: {str(e)}\"\n",
    "\n",
    "# Obtener la fecha de creación para los TLDs sospechosos\n",
    "filtered_domains['creation_date'] = filtered_domains['domain_tld'].apply(get_tld_creation_date)\n",
    "\n",
    "tld_creation_dates = {tld: get_tld_creation_date(tld) for tld in filtered_domains[\"dns.rrname\"].unique()}\n",
    "\n",
    "print(\"\\nFechas de creación de los TLDs sospechosos:\")\n",
    "for tld, date in tld_creation_dates.items():\n",
    "    print(f\"{tld}\")\n",
    "\n",
    "print(f\"Cantidad de creacion de dominios sospechosos: {len(tld_creation_dates)}\")"
   ]
  },
  {
   "cell_type": "code",
   "execution_count": 70,
   "metadata": {},
   "outputs": [
    {
     "name": "stdout",
     "output_type": "stream",
     "text": [
      "\n",
      "Dominios que parecen DGA:\n",
      "3                safebrowsing.clients.google.com.home\n",
      "20                secure.informaction.com.localdomain\n",
      "21        safebrowsing.clients.google.com.localdomain\n",
      "43     safebrowsing.clients.google.com.hackerlabs.vpn\n",
      "52                       secure.informaction.com.home\n",
      "63             secure.informaction.com.hackerlabs.vpn\n",
      "67                safebrowsing.clients.google.com.lan\n",
      "131                                           saruman\n",
      "151                             whitecell.localdomain\n",
      "Name: dns.rrname, dtype: object\n",
      "Cantidad de dominios DGA: 9\n"
     ]
    }
   ],
   "source": [
    "import re\n",
    "\n",
    "def is_dga_domain(domain):\n",
    "    \"\"\"Determina si un dominio parece generado aleatoriamente (DGA).\"\"\"\n",
    "    if isinstance(domain, str):  # Verifica que sea una cadena\n",
    "        return bool(re.match(r'[a-zA-Z0-9]{6,}', domain))  # Solo letras y más de 8 caracteres\n",
    "    return False  # Si no es una cadena, no es un dominio DGA\n",
    "\n",
    "# Aplicar la detección de DGA a los dominios sospechosos\n",
    "filtered_domains[\"is_dga\"] = filtered_domains[\"dns.rrname\"].apply(is_dga_domain)\n",
    "\n",
    "# Mostrar los dominios confirmados como DGA\n",
    "dga_domains = filtered_domains[filtered_domains[\"is_dga\"]]\n",
    "print(\"\\nDominios que parecen DGA:\")\n",
    "print(dga_domains[\"dns.rrname\"]) \n",
    "print(f\"Cantidad de dominios DGA: {len(dga_domains)}\")"
   ]
  },
  {
   "cell_type": "markdown",
   "metadata": {},
   "source": [
    "### Conclusion\n"
   ]
  },
  {
   "cell_type": "markdown",
   "metadata": {},
   "source": [
    "No se llegaron a detectar dominios sospechosos los cuales posean caracteres aleatorios. Esto puede ser por varios factores pero en este caso el factor principal es por el uso de Gemini, especificamente por el prompt utilizado y por la temperatura del modelo. Gemini no siempre clasifica de manera correcta los dominios que son generados por algoritmos y con un prompt simple se identificaron pocos dominios DGA. Al tener un prompt mejor se incrementaron los dominios generados y la presición mejoro.  Se logra evidenciar que el prompt es vital en el rendimiento del modelo y si se busca llevar a cabo clasificaciones mas complejas se debe hacer más robusta la petición."
   ]
  }
 ],
 "metadata": {
  "kernelspec": {
   "display_name": "Python 3",
   "language": "python",
   "name": "python3"
  },
  "language_info": {
   "codemirror_mode": {
    "name": "ipython",
    "version": 3
   },
   "file_extension": ".py",
   "mimetype": "text/x-python",
   "name": "python",
   "nbconvert_exporter": "python",
   "pygments_lexer": "ipython3",
   "version": "3.13.0"
  }
 },
 "nbformat": 4,
 "nbformat_minor": 2
}
